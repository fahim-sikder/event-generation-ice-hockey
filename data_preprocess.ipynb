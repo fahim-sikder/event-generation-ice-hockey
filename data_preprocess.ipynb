{
 "cells": [
  {
   "cell_type": "code",
   "execution_count": 1,
   "id": "95d8d84f-73c3-404d-80e3-5b499394e919",
   "metadata": {},
   "outputs": [],
   "source": [
    "import pandas as pd\n",
    "import numpy as np\n",
    "import matplotlib.pyplot as plt\n",
    "from hockey_rink import NHLRink, IIHFRink, NWHLRink\n",
    "import sklearn\n",
    "import sklearn.preprocessing\n",
    "\n",
    "import torch\n",
    "\n",
    "from sklearn.model_selection import train_test_split\n",
    "import pickle"
   ]
  },
  {
   "cell_type": "code",
   "execution_count": 2,
   "id": "fd84bcbb-6610-41f8-a761-5d8386dc61fb",
   "metadata": {},
   "outputs": [],
   "source": [
    "columns= ['eventname', 'ishomegame', 'manpowersituation', 'outcome',\n",
    "       'playerprimaryposition', 'xadjcoord', 'yadjcoord']"
   ]
  },
  {
   "cell_type": "code",
   "execution_count": 3,
   "id": "3ffc4617-c131-4154-a31b-a6bc4a40ad87",
   "metadata": {},
   "outputs": [],
   "source": [
    "data = pd.read_csv('data/main.csv', usecols=columns)"
   ]
  },
  {
   "cell_type": "code",
   "execution_count": 4,
   "id": "66f4c140-f79f-46aa-9f83-a18f2d929636",
   "metadata": {},
   "outputs": [
    {
     "name": "stdout",
     "output_type": "stream",
     "text": [
      "7\n"
     ]
    }
   ],
   "source": [
    "goal_data = data.loc[(data['eventname'] == 'goal')]\n",
    "\n",
    "print(goal_data.shape[1])"
   ]
  },
  {
   "cell_type": "code",
   "execution_count": 5,
   "id": "363d41cf-d5a5-4e72-ba41-996ad7e39528",
   "metadata": {},
   "outputs": [],
   "source": [
    "frame = pd.DataFrame()"
   ]
  },
  {
   "cell_type": "code",
   "execution_count": 6,
   "id": "bb2239a4-3f20-466a-83f0-5b6855bae441",
   "metadata": {},
   "outputs": [],
   "source": [
    "for i in (goal_data.index):\n",
    "    \n",
    "    frame = pd.concat([frame, data[i-30:i+1]], ignore_index = True, axis = 0)"
   ]
  },
  {
   "cell_type": "code",
   "execution_count": 7,
   "id": "22b94338-ce9d-4172-b9ad-03be0e6fc05b",
   "metadata": {},
   "outputs": [],
   "source": [
    "class SportsData(torch.utils.data.Dataset):\n",
    "    def __init__(self, norm_data, seq_len):\n",
    "        \n",
    "        seq_data = []\n",
    "        for i in range(len(norm_data) - seq_len + 1):\n",
    "            x = norm_data[i : i + seq_len]\n",
    "            seq_data.append(x)\n",
    "\n",
    "        self.samples = []\n",
    "        idx = torch.randperm(len(seq_data))\n",
    "        for i in range(len(seq_data)):\n",
    "            self.samples.append(seq_data[idx[i]])\n",
    "            \n",
    "        self.samples = np.asarray(self.samples, dtype = np.float32)\n",
    "            \n",
    "    def __len__(self):\n",
    "        return self.samples.shape[0]\n",
    "\n",
    "    def __getitem__(self, idx):\n",
    "        \n",
    "        return self.samples[idx,:,:]"
   ]
  },
  {
   "cell_type": "code",
   "execution_count": 8,
   "id": "4683e927-f282-478a-82b6-0ed850fb1e70",
   "metadata": {},
   "outputs": [],
   "source": [
    "seq_len = 24"
   ]
  },
  {
   "cell_type": "code",
   "execution_count": 9,
   "id": "a0cba78d-99c6-4e97-95e8-369f698b0f23",
   "metadata": {},
   "outputs": [],
   "source": [
    "def encoding(norm_data):\n",
    "    \n",
    "    enc_event = sklearn.preprocessing.OrdinalEncoder()\n",
    "    enc_manpow = sklearn.preprocessing.OrdinalEncoder()\n",
    "    enc_out = sklearn.preprocessing.OrdinalEncoder()\n",
    "    enc_playerpos = sklearn.preprocessing.OrdinalEncoder()\n",
    "    \n",
    "\n",
    "    norm_data['eventname'] = enc_event.fit_transform(np.asarray(norm_data['eventname']).reshape(-1,1))\n",
    "\n",
    "    norm_data['manpowersituation'] = enc_manpow.fit_transform(np.asarray(norm_data['manpowersituation']).reshape(-1,1))\n",
    "\n",
    "    norm_data['outcome'] = enc_out.fit_transform(np.asarray(norm_data['outcome']).reshape(-1,1))\n",
    "\n",
    "    norm_data['playerprimaryposition'] = enc_playerpos.fit_transform(np.asarray(norm_data['playerprimaryposition']).reshape(-1,1))\n",
    "    \n",
    "    scaler = sklearn.preprocessing.MinMaxScaler(feature_range=(0,1))\n",
    "    \n",
    "    norm_data = scaler.fit_transform(np.asarray(norm_data))\n",
    "    \n",
    "    return norm_data, (enc_event, enc_manpow, enc_out, enc_playerpos, scaler)"
   ]
  },
  {
   "cell_type": "code",
   "execution_count": 10,
   "id": "07ffceb0-58ac-48a6-8630-9b3b2b518ee9",
   "metadata": {},
   "outputs": [],
   "source": [
    "norm_data_encoded, (enc_event, enc_manpow, enc_out, enc_playerpos, scaler) = encoding(frame)"
   ]
  },
  {
   "cell_type": "code",
   "execution_count": 11,
   "id": "ff5192bf-126e-48a3-8667-86d4e10317db",
   "metadata": {},
   "outputs": [],
   "source": [
    "sports_data = SportsData(norm_data_encoded, seq_len)"
   ]
  },
  {
   "cell_type": "code",
   "execution_count": 12,
   "id": "c5473e27-be63-484d-8e29-c48c6c460312",
   "metadata": {},
   "outputs": [],
   "source": [
    "train_data, test_data = train_test_split(sports_data, train_size = 0.8, random_state = 2022)"
   ]
  },
  {
   "cell_type": "code",
   "execution_count": 13,
   "id": "7ef02661-7333-4775-863e-ec0aac3f41b7",
   "metadata": {},
   "outputs": [],
   "source": [
    "with open(f'data/train_data.pkl', 'wb') as f:\n",
    "    \n",
    "    pickle.dump(train_data, f)\n",
    "    \n",
    "    f.close()\n",
    "    \n",
    "with open(f'data/test_data.pkl', 'wb') as f:\n",
    "    \n",
    "    pickle.dump(test_data, f)\n",
    "    \n",
    "    f.close()"
   ]
  },
  {
   "cell_type": "code",
   "execution_count": 14,
   "id": "7758090e-f773-48fa-98ee-ea222ed3ddf8",
   "metadata": {},
   "outputs": [],
   "source": [
    "with open(f'scaler/enc_event.pkl', 'wb') as f:\n",
    "    \n",
    "    pickle.dump(enc_event, f)\n",
    "    \n",
    "    f.close()\n",
    "    \n",
    "with open(f'scaler/scaler.pkl', 'wb') as f:\n",
    "    \n",
    "    pickle.dump(scaler, f)\n",
    "    \n",
    "    f.close()"
   ]
  }
 ],
 "metadata": {
  "kernelspec": {
   "display_name": "Python 3 (ipykernel)",
   "language": "python",
   "name": "python3"
  },
  "language_info": {
   "codemirror_mode": {
    "name": "ipython",
    "version": 3
   },
   "file_extension": ".py",
   "mimetype": "text/x-python",
   "name": "python",
   "nbconvert_exporter": "python",
   "pygments_lexer": "ipython3",
   "version": "3.8.13"
  }
 },
 "nbformat": 4,
 "nbformat_minor": 5
}
