{
 "cells": [
  {
   "cell_type": "code",
   "execution_count": 1,
   "id": "2dbce9f3-246a-4370-ad75-228b262ae3f4",
   "metadata": {},
   "outputs": [
    {
     "name": "stderr",
     "output_type": "stream",
     "text": [
      "2022-05-16 17:04:04.006225: I tensorflow/stream_executor/platform/default/dso_loader.cc:49] Successfully opened dynamic library libcudart.so.11.0\n"
     ]
    }
   ],
   "source": [
    "## https://github.com/ydataai/ydata-synthetic/blob/dev/examples/timeseries/TimeGAN_Synthetic_stock_data.ipynb\n",
    "\n",
    "from tensorflow.keras import Input, Sequential\n",
    "from tensorflow.keras.callbacks import EarlyStopping\n",
    "from tensorflow.keras.layers import GRU, Dense\n",
    "from tensorflow.keras.optimizers import Adam\n",
    "from tensorflow.keras.losses import MeanAbsoluteError\n",
    "\n",
    "from data_hub import LoadData\n",
    "\n",
    "from sklearn.metrics import r2_score, mean_absolute_error, mean_squared_log_error\n",
    "import pandas as pd\n",
    "\n",
    "import numpy as np"
   ]
  },
  {
   "cell_type": "code",
   "execution_count": 2,
   "id": "141232a1-c442-435f-8113-30030a6dce4d",
   "metadata": {},
   "outputs": [],
   "source": [
    "def RNN_regression(units):\n",
    "    opt = Adam(name='AdamOpt')\n",
    "    loss = MeanAbsoluteError(name='MAE')\n",
    "    model = Sequential()\n",
    "    model.add(GRU(units=units,\n",
    "                  name=f'RNN_1'))\n",
    "    model.add(Dense(units=7,\n",
    "                    activation='sigmoid',\n",
    "                    name='OUT'))\n",
    "    model.compile(optimizer=opt, loss=loss)\n",
    "    return model"
   ]
  },
  {
   "cell_type": "code",
   "execution_count": 3,
   "id": "04b7b6b7-389d-4b35-8d1c-2cca9bd05596",
   "metadata": {},
   "outputs": [],
   "source": [
    "dataset_name = 'sports-goal'\n",
    "seq_len = 24"
   ]
  },
  {
   "cell_type": "code",
   "execution_count": 4,
   "id": "6a03a2fb-91d8-4014-8428-2bc639b8c793",
   "metadata": {},
   "outputs": [
    {
     "name": "stdout",
     "output_type": "stream",
     "text": [
      "Loading Saved data\n",
      "Sports Data with 7 dimension loaded with sequence 24\n"
     ]
    }
   ],
   "source": [
    "train_data, test_data = LoadData(dataset_name, seq_len)"
   ]
  },
  {
   "cell_type": "code",
   "execution_count": 5,
   "id": "33a9d404-f49f-42f9-b5e7-2f4f2664aedc",
   "metadata": {},
   "outputs": [],
   "source": [
    "synth_data = np.load('synth_data/synth_data_timegan.npy')"
   ]
  },
  {
   "cell_type": "code",
   "execution_count": 6,
   "id": "58795669-60aa-4ed5-819e-ac4964fadbf0",
   "metadata": {},
   "outputs": [
    {
     "name": "stdout",
     "output_type": "stream",
     "text": [
      "Synthetic X train: (489, 23, 7)\n",
      "Real X train: (489, 23, 7)\n",
      "Synthetic y train: (489, 7)\n",
      "Real y train: (489, 7)\n",
      "Real X test: (164, 23, 7)\n",
      "Real y test: (164, 7)\n"
     ]
    }
   ],
   "source": [
    "ori_data=np.asarray(test_data)\n",
    "\n",
    "synth_data = synth_data[:len(ori_data)]\n",
    "\n",
    "n_events = len(ori_data)\n",
    "\n",
    "\n",
    "idx = np.arange(n_events)\n",
    "\n",
    "n_train = int(.75*n_events)\n",
    "\n",
    "train_idx = idx[:n_train]\n",
    "test_idx = idx[n_train:]\n",
    "\n",
    "\n",
    "X_ori_train = ori_data[train_idx, :seq_len-1, :]\n",
    "X_synth_train = synth_data[train_idx, :seq_len-1, :]\n",
    "\n",
    "X_ori_test = ori_data[test_idx, :seq_len-1, :]\n",
    "y_ori_test = ori_data[test_idx, -1, :]\n",
    "\n",
    "\n",
    "y_ori_train = ori_data[train_idx, -1, :]\n",
    "y_synth_train = synth_data[train_idx, -1, :]\n",
    "\n",
    "print('Synthetic X train: {}'.format(X_synth_train.shape))\n",
    "print('Real X train: {}'.format(X_ori_train.shape))\n",
    "\n",
    "print('Synthetic y train: {}'.format(y_synth_train.shape))\n",
    "print('Real y train: {}'.format(y_ori_train.shape))\n",
    "\n",
    "print('Real X test: {}'.format(X_ori_test.shape))\n",
    "print('Real y test: {}'.format(y_ori_test.shape))"
   ]
  },
  {
   "cell_type": "code",
   "execution_count": 7,
   "id": "099dd59d-c47e-479f-a487-b9c2900c32e4",
   "metadata": {},
   "outputs": [
    {
     "name": "stderr",
     "output_type": "stream",
     "text": [
      "2022-05-16 17:04:05.369671: I tensorflow/compiler/jit/xla_cpu_device.cc:41] Not creating XLA devices, tf_xla_enable_xla_devices not set\n",
      "2022-05-16 17:04:05.371194: I tensorflow/stream_executor/platform/default/dso_loader.cc:49] Successfully opened dynamic library libcuda.so.1\n",
      "2022-05-16 17:04:05.408822: I tensorflow/core/common_runtime/gpu/gpu_device.cc:1720] Found device 0 with properties: \n",
      "pciBusID: 0000:15:00.0 name: NVIDIA GeForce RTX 2080 Ti computeCapability: 7.5\n",
      "coreClock: 1.545GHz coreCount: 68 deviceMemorySize: 10.76GiB deviceMemoryBandwidth: 573.69GiB/s\n",
      "2022-05-16 17:04:05.410605: I tensorflow/core/common_runtime/gpu/gpu_device.cc:1720] Found device 1 with properties: \n",
      "pciBusID: 0000:21:00.0 name: NVIDIA GeForce RTX 2080 Ti computeCapability: 7.5\n",
      "coreClock: 1.545GHz coreCount: 68 deviceMemorySize: 10.75GiB deviceMemoryBandwidth: 573.69GiB/s\n",
      "2022-05-16 17:04:05.410659: I tensorflow/stream_executor/platform/default/dso_loader.cc:49] Successfully opened dynamic library libcudart.so.11.0\n",
      "2022-05-16 17:04:05.414984: I tensorflow/stream_executor/platform/default/dso_loader.cc:49] Successfully opened dynamic library libcublas.so.11\n",
      "2022-05-16 17:04:05.415108: I tensorflow/stream_executor/platform/default/dso_loader.cc:49] Successfully opened dynamic library libcublasLt.so.11\n",
      "2022-05-16 17:04:05.416562: I tensorflow/stream_executor/platform/default/dso_loader.cc:49] Successfully opened dynamic library libcufft.so.10\n",
      "2022-05-16 17:04:05.416904: I tensorflow/stream_executor/platform/default/dso_loader.cc:49] Successfully opened dynamic library libcurand.so.10\n",
      "2022-05-16 17:04:05.420690: I tensorflow/stream_executor/platform/default/dso_loader.cc:49] Successfully opened dynamic library libcusolver.so.10\n",
      "2022-05-16 17:04:05.421665: I tensorflow/stream_executor/platform/default/dso_loader.cc:49] Successfully opened dynamic library libcusparse.so.11\n",
      "2022-05-16 17:04:05.421848: I tensorflow/stream_executor/platform/default/dso_loader.cc:49] Successfully opened dynamic library libcudnn.so.8\n",
      "2022-05-16 17:04:05.424952: I tensorflow/core/common_runtime/gpu/gpu_device.cc:1862] Adding visible gpu devices: 0, 1\n",
      "2022-05-16 17:04:05.425476: I tensorflow/core/platform/cpu_feature_guard.cc:142] This TensorFlow binary is optimized with oneAPI Deep Neural Network Library (oneDNN) to use the following CPU instructions in performance-critical operations:  AVX512F\n",
      "To enable them in other operations, rebuild TensorFlow with the appropriate compiler flags.\n",
      "2022-05-16 17:04:05.426435: I tensorflow/compiler/jit/xla_gpu_device.cc:99] Not creating XLA devices, tf_xla_enable_xla_devices not set\n",
      "2022-05-16 17:04:05.607039: I tensorflow/core/common_runtime/gpu/gpu_device.cc:1720] Found device 0 with properties: \n",
      "pciBusID: 0000:15:00.0 name: NVIDIA GeForce RTX 2080 Ti computeCapability: 7.5\n",
      "coreClock: 1.545GHz coreCount: 68 deviceMemorySize: 10.76GiB deviceMemoryBandwidth: 573.69GiB/s\n",
      "2022-05-16 17:04:05.607436: I tensorflow/core/common_runtime/gpu/gpu_device.cc:1720] Found device 1 with properties: \n",
      "pciBusID: 0000:21:00.0 name: NVIDIA GeForce RTX 2080 Ti computeCapability: 7.5\n",
      "coreClock: 1.545GHz coreCount: 68 deviceMemorySize: 10.75GiB deviceMemoryBandwidth: 573.69GiB/s\n",
      "2022-05-16 17:04:05.607460: I tensorflow/stream_executor/platform/default/dso_loader.cc:49] Successfully opened dynamic library libcudart.so.11.0\n",
      "2022-05-16 17:04:05.607489: I tensorflow/stream_executor/platform/default/dso_loader.cc:49] Successfully opened dynamic library libcublas.so.11\n",
      "2022-05-16 17:04:05.607495: I tensorflow/stream_executor/platform/default/dso_loader.cc:49] Successfully opened dynamic library libcublasLt.so.11\n",
      "2022-05-16 17:04:05.607502: I tensorflow/stream_executor/platform/default/dso_loader.cc:49] Successfully opened dynamic library libcufft.so.10\n",
      "2022-05-16 17:04:05.607508: I tensorflow/stream_executor/platform/default/dso_loader.cc:49] Successfully opened dynamic library libcurand.so.10\n",
      "2022-05-16 17:04:05.607514: I tensorflow/stream_executor/platform/default/dso_loader.cc:49] Successfully opened dynamic library libcusolver.so.10\n",
      "2022-05-16 17:04:05.607521: I tensorflow/stream_executor/platform/default/dso_loader.cc:49] Successfully opened dynamic library libcusparse.so.11\n",
      "2022-05-16 17:04:05.607527: I tensorflow/stream_executor/platform/default/dso_loader.cc:49] Successfully opened dynamic library libcudnn.so.8\n",
      "2022-05-16 17:04:05.608840: I tensorflow/core/common_runtime/gpu/gpu_device.cc:1862] Adding visible gpu devices: 0, 1\n",
      "2022-05-16 17:04:05.608864: I tensorflow/stream_executor/platform/default/dso_loader.cc:49] Successfully opened dynamic library libcudart.so.11.0\n",
      "2022-05-16 17:04:06.235776: I tensorflow/core/common_runtime/gpu/gpu_device.cc:1261] Device interconnect StreamExecutor with strength 1 edge matrix:\n",
      "2022-05-16 17:04:06.235803: I tensorflow/core/common_runtime/gpu/gpu_device.cc:1267]      0 1 \n",
      "2022-05-16 17:04:06.235808: I tensorflow/core/common_runtime/gpu/gpu_device.cc:1280] 0:   N N \n",
      "2022-05-16 17:04:06.235810: I tensorflow/core/common_runtime/gpu/gpu_device.cc:1280] 1:   N N \n",
      "2022-05-16 17:04:06.237412: I tensorflow/core/common_runtime/gpu/gpu_device.cc:1406] Created TensorFlow device (/job:localhost/replica:0/task:0/device:GPU:0 with 10064 MB memory) -> physical GPU (device: 0, name: NVIDIA GeForce RTX 2080 Ti, pci bus id: 0000:15:00.0, compute capability: 7.5)\n",
      "2022-05-16 17:04:06.238533: I tensorflow/core/common_runtime/gpu/gpu_device.cc:1406] Created TensorFlow device (/job:localhost/replica:0/task:0/device:GPU:1 with 9138 MB memory) -> physical GPU (device: 1, name: NVIDIA GeForce RTX 2080 Ti, pci bus id: 0000:21:00.0, compute capability: 7.5)\n",
      "2022-05-16 17:04:06.368266: I tensorflow/compiler/mlir/mlir_graph_optimization_pass.cc:116] None of the MLIR optimization passes are enabled (registered 2)\n",
      "2022-05-16 17:04:06.368755: I tensorflow/core/platform/profile_utils/cpu_utils.cc:112] CPU Frequency: 3699850000 Hz\n"
     ]
    },
    {
     "name": "stdout",
     "output_type": "stream",
     "text": [
      "Epoch 1/200\n"
     ]
    },
    {
     "name": "stderr",
     "output_type": "stream",
     "text": [
      "2022-05-16 17:04:07.070120: I tensorflow/stream_executor/platform/default/dso_loader.cc:49] Successfully opened dynamic library libcublas.so.11\n"
     ]
    },
    {
     "name": "stdout",
     "output_type": "stream",
     "text": [
      "3/4 [=====================>........] - ETA: 0s - loss: 0.2957"
     ]
    },
    {
     "name": "stderr",
     "output_type": "stream",
     "text": [
      "2022-05-16 17:04:07.395823: I tensorflow/stream_executor/platform/default/dso_loader.cc:49] Successfully opened dynamic library libcublasLt.so.11\n"
     ]
    },
    {
     "name": "stdout",
     "output_type": "stream",
     "text": [
      "4/4 [==============================] - 2s 157ms/step - loss: 0.2969 - val_loss: 0.2841\n",
      "Epoch 2/200\n",
      "4/4 [==============================] - 0s 66ms/step - loss: 0.2958 - val_loss: 0.2818\n",
      "Epoch 3/200\n",
      "4/4 [==============================] - 0s 63ms/step - loss: 0.2937 - val_loss: 0.2797\n",
      "Epoch 4/200\n",
      "4/4 [==============================] - 0s 65ms/step - loss: 0.2904 - val_loss: 0.2775\n",
      "Epoch 5/200\n",
      "4/4 [==============================] - 0s 64ms/step - loss: 0.2884 - val_loss: 0.2754\n",
      "Epoch 6/200\n",
      "4/4 [==============================] - 0s 56ms/step - loss: 0.2860 - val_loss: 0.2735\n",
      "Epoch 7/200\n",
      "4/4 [==============================] - 0s 69ms/step - loss: 0.2853 - val_loss: 0.2716\n",
      "Epoch 8/200\n",
      "4/4 [==============================] - 0s 77ms/step - loss: 0.2828 - val_loss: 0.2697\n",
      "Epoch 9/200\n",
      "4/4 [==============================] - 0s 66ms/step - loss: 0.2792 - val_loss: 0.2678\n",
      "Epoch 10/200\n",
      "4/4 [==============================] - 0s 64ms/step - loss: 0.2776 - val_loss: 0.2661\n",
      "Epoch 11/200\n",
      "4/4 [==============================] - 0s 65ms/step - loss: 0.2747 - val_loss: 0.2644\n",
      "Epoch 12/200\n",
      "4/4 [==============================] - 0s 64ms/step - loss: 0.2722 - val_loss: 0.2627\n",
      "Epoch 13/200\n",
      "4/4 [==============================] - 0s 67ms/step - loss: 0.2714 - val_loss: 0.2611\n",
      "Epoch 14/200\n",
      "4/4 [==============================] - 0s 66ms/step - loss: 0.2655 - val_loss: 0.2595\n",
      "Epoch 15/200\n",
      "4/4 [==============================] - 0s 64ms/step - loss: 0.2650 - val_loss: 0.2581\n",
      "Epoch 16/200\n",
      "4/4 [==============================] - 0s 67ms/step - loss: 0.2660 - val_loss: 0.2567\n",
      "Epoch 17/200\n",
      "4/4 [==============================] - 0s 64ms/step - loss: 0.2605 - val_loss: 0.2555\n",
      "Epoch 18/200\n",
      "4/4 [==============================] - 0s 64ms/step - loss: 0.2575 - val_loss: 0.2541\n",
      "Epoch 19/200\n",
      "4/4 [==============================] - 0s 58ms/step - loss: 0.2543 - val_loss: 0.2530\n",
      "Epoch 20/200\n",
      "4/4 [==============================] - 0s 70ms/step - loss: 0.2526 - val_loss: 0.2517\n",
      "Epoch 21/200\n",
      "4/4 [==============================] - 0s 63ms/step - loss: 0.2499 - val_loss: 0.2504\n",
      "Epoch 22/200\n",
      "4/4 [==============================] - 0s 68ms/step - loss: 0.2447 - val_loss: 0.2492\n",
      "Epoch 23/200\n",
      "4/4 [==============================] - 0s 69ms/step - loss: 0.2428 - val_loss: 0.2478\n",
      "Epoch 24/200\n",
      "4/4 [==============================] - 0s 66ms/step - loss: 0.2403 - val_loss: 0.2468\n",
      "Epoch 25/200\n",
      "4/4 [==============================] - 0s 71ms/step - loss: 0.2367 - val_loss: 0.2457\n",
      "Epoch 26/200\n",
      "4/4 [==============================] - 0s 64ms/step - loss: 0.2359 - val_loss: 0.2450\n",
      "Epoch 27/200\n",
      "4/4 [==============================] - 0s 62ms/step - loss: 0.2345 - val_loss: 0.2444\n",
      "Epoch 28/200\n",
      "4/4 [==============================] - 0s 75ms/step - loss: 0.2311 - val_loss: 0.2436\n",
      "Epoch 29/200\n",
      "4/4 [==============================] - 0s 60ms/step - loss: 0.2272 - val_loss: 0.2431\n",
      "Epoch 30/200\n",
      "4/4 [==============================] - 0s 69ms/step - loss: 0.2241 - val_loss: 0.2425\n",
      "Epoch 31/200\n",
      "4/4 [==============================] - 0s 60ms/step - loss: 0.2261 - val_loss: 0.2420\n",
      "Epoch 32/200\n",
      "4/4 [==============================] - 0s 75ms/step - loss: 0.2215 - val_loss: 0.2412\n",
      "Epoch 33/200\n",
      "4/4 [==============================] - 0s 54ms/step - loss: 0.2201 - val_loss: 0.2407\n",
      "Epoch 34/200\n",
      "4/4 [==============================] - 0s 66ms/step - loss: 0.2166 - val_loss: 0.2403\n",
      "Epoch 35/200\n",
      "4/4 [==============================] - 0s 59ms/step - loss: 0.2154 - val_loss: 0.2400\n",
      "Epoch 36/200\n",
      "4/4 [==============================] - 0s 70ms/step - loss: 0.2148 - val_loss: 0.2402\n"
     ]
    }
   ],
   "source": [
    "ts_synth = RNN_regression(12)\n",
    "early_stopping = EarlyStopping(monitor='val_loss')\n",
    "synth_train = ts_synth.fit(x=X_synth_train,\n",
    "                          y=y_synth_train,\n",
    "                          validation_data=(X_ori_test, y_ori_test),\n",
    "                          epochs=200,\n",
    "                          batch_size=128,\n",
    "                          callbacks=[early_stopping])"
   ]
  },
  {
   "cell_type": "code",
   "execution_count": 8,
   "id": "31d81f9c-52b0-4954-94e4-dfacc52194fc",
   "metadata": {},
   "outputs": [
    {
     "name": "stdout",
     "output_type": "stream",
     "text": [
      "MAE: 0.24017944931983948\n",
      "MRLE: 0.05028403550386429\n"
     ]
    }
   ],
   "source": [
    "synth_predictions = ts_synth.predict(X_ori_test)\n",
    "\n",
    "print(f'MAE: {mean_absolute_error(y_ori_test, synth_predictions)}')\n",
    "print(f'MRLE: {mean_squared_log_error(y_ori_test, synth_predictions)}')"
   ]
  }
 ],
 "metadata": {
  "kernelspec": {
   "display_name": "Python 3 (ipykernel)",
   "language": "python",
   "name": "python3"
  },
  "language_info": {
   "codemirror_mode": {
    "name": "ipython",
    "version": 3
   },
   "file_extension": ".py",
   "mimetype": "text/x-python",
   "name": "python",
   "nbconvert_exporter": "python",
   "pygments_lexer": "ipython3",
   "version": "3.8.10"
  }
 },
 "nbformat": 4,
 "nbformat_minor": 5
}
